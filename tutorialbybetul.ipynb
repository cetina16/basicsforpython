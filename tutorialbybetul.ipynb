{
 "cells": [
  {
   "cell_type": "markdown",
   "metadata": {},
   "source": [
    "Python Tutorial"
   ]
  },
  {
   "cell_type": "code",
   "execution_count": 8,
   "metadata": {},
   "outputs": [
    {
     "name": "stdout",
     "output_type": "stream",
     "text": [
      "Hello\n"
     ]
    }
   ],
   "source": [
    "print(\"Hello\")"
   ]
  },
  {
   "cell_type": "code",
   "execution_count": 9,
   "metadata": {},
   "outputs": [],
   "source": [
    "#This is a comment"
   ]
  },
  {
   "cell_type": "code",
   "execution_count": 10,
   "metadata": {},
   "outputs": [
    {
     "name": "stdout",
     "output_type": "stream",
     "text": [
      "Hello\n"
     ]
    }
   ],
   "source": [
    "\"\"\"This is a\n",
    "multiline comment.\"\"\"\n",
    "print(\"Hello\")"
   ]
  },
  {
   "cell_type": "code",
   "execution_count": 11,
   "metadata": {},
   "outputs": [
    {
     "name": "stdout",
     "output_type": "stream",
     "text": [
      "5\n",
      "Betul\n",
      "Betul Cetin\n",
      "Ayse Betul\n",
      "<class 'int'>\n",
      "<class 'str'>\n",
      "<class 'float'>\n",
      "<class 'complex'>\n"
     ]
    }
   ],
   "source": [
    "#create variables\n",
    "x = 5\n",
    "y = \"Betul\"\n",
    "z = \"Cetin\"\n",
    "t = 5.6\n",
    "k = 3 + 4j  \n",
    "print(x)\n",
    "print(y)\n",
    "print(y + \" \"+z)\n",
    "print(\"Ayse \" + y)\n",
    "print(type(x))\n",
    "print(type(y))\n",
    "print(type(t))\n",
    "print(type(k))"
   ]
  },
  {
   "cell_type": "code",
   "execution_count": 12,
   "metadata": {},
   "outputs": [
    {
     "name": "stdout",
     "output_type": "stream",
     "text": [
      "4.0\n",
      "3\n"
     ]
    }
   ],
   "source": [
    "#casting\n",
    "\n",
    "y = int(3.8)\n",
    "z = float(4)\n",
    "print(z)\n",
    "print(y)"
   ]
  },
  {
   "cell_type": "code",
   "execution_count": 13,
   "metadata": {},
   "outputs": [
    {
     "name": "stdout",
     "output_type": "stream",
     "text": [
      "I love\n",
      "o\n",
      "I lov\n",
      "13\n",
      "i love coding\n",
      "I LOVE CODING\n",
      "We love Coding\n",
      "['Hello', ' world']\n"
     ]
    }
   ],
   "source": [
    "#strings in python\n",
    "\n",
    "str = \"I love Coding\"\n",
    "strwithspace = \" I love\"\n",
    "print(strwithspace.strip())\n",
    "print(str[3])\n",
    "print(str[0:5])\n",
    "print(len(str))\n",
    "print(str.lower())\n",
    "print(str.upper())\n",
    "print(str.replace(\"I\", \"We\"))\n",
    "str3 = \"Hello, world\"\n",
    "str2 = str3.split(\",\")\n",
    "print(str2)"
   ]
  },
  {
   "cell_type": "code",
   "execution_count": 14,
   "metadata": {},
   "outputs": [
    {
     "name": "stdout",
     "output_type": "stream",
     "text": [
      "1\n",
      "[0, 2, 3, 4, 5]\n",
      "5\n",
      "Elements in list:\n",
      "0\n",
      "2\n",
      "3\n",
      "4\n",
      "5\n",
      "yes 4 is in mylist\n",
      "[0, 2, 3, 4, 5, 6]\n",
      "[-1, 0, 2, 3, 4, 5, 6, -1]\n",
      "[2, 3, 4, 5, 6]\n",
      "[]\n",
      "[1, 2, 3]\n"
     ]
    }
   ],
   "source": [
    "#lists\n",
    "\n",
    "mylist = [1,2,3,4,5]\n",
    "print((mylist[0]))\n",
    "mylist[0] = 0     #change the value of item\n",
    "print(mylist)\n",
    "print(len(mylist))\n",
    "print (\"Elements in list:\")\n",
    "for x in mylist:\n",
    "    print(x)\n",
    "\n",
    "if 4 in mylist:\n",
    "    print (\"yes 4 is in mylist\")\n",
    "\n",
    "mylist.append(6)  #add an item to the end of the list\n",
    "print(mylist)\n",
    "mylist.insert(6,-1)  #add an item to the specified index\n",
    "mylist.insert(0,-1)\n",
    "print(mylist)\n",
    "mylist.remove(-1) #remove the specified item\n",
    "mylist.pop()      #remove the last item\n",
    "del mylist[0]     #remove an item at a specified index\n",
    "\n",
    "print(mylist)\n",
    "\n",
    "mylist.clear()   #empty a list\n",
    "print(mylist)\n",
    "\n",
    "thislist = list((1,2,3))   #using the list constructer to make a list is possible\n",
    "print(thislist)"
   ]
  },
  {
   "cell_type": "code",
   "execution_count": 15,
   "metadata": {},
   "outputs": [
    {
     "name": "stdout",
     "output_type": "stream",
     "text": [
      "('a', 'b', 'c')\n",
      "a\n",
      "b\n",
      "c\n"
     ]
    }
   ],
   "source": [
    "#tuples\n",
    "\n",
    "mytuple = (\"a\",\"b\",\"c\")\n",
    "print(mytuple)\n",
    "for x in mytuple:\n",
    "    print(x)\n",
    "#other features are same with list\n",
    "#mytuple[0] = d  changing the value is not possible"
   ]
  },
  {
   "cell_type": "code",
   "execution_count": 10,
   "metadata": {},
   "outputs": [
    {
     "name": "stdout",
     "output_type": "stream",
     "text": [
      "{'uu', 'kk', 'oo'}\n",
      "{'uu', 'kk', 'll', 'oo'}\n",
      "{'gg', 'uu', 'll', 'mm', 'oo', 'kk', 'ee'}\n",
      "gg\n",
      "{'uu', 'll', 'oo', 'kk'}\n",
      "{1, 2, 3}\n"
     ]
    }
   ],
   "source": [
    "#sets\n",
    "\n",
    "#unordered,unindexed \n",
    "\n",
    "myset = {\"oo\",\"uu\",\"kk\"}\n",
    "print(myset)\n",
    "myset.add(\"ll\")\n",
    "print(myset)\n",
    "myset.update([\"ee\", \"mm\", \"gg\"])\n",
    "print(myset)\n",
    "myset.remove(\"ee\")\n",
    "myset.discard(\"mm\")\n",
    "print(myset.pop())\n",
    "print(myset)\n",
    "myset.clear()\n",
    "del myset\n",
    "thisset = set((1,2,3))\n",
    "print(thisset)"
   ]
  },
  {
   "cell_type": "code",
   "execution_count": 11,
   "metadata": {},
   "outputs": [
    {
     "name": "stdout",
     "output_type": "stream",
     "text": [
      "{'name': 'Betul', 'age': 22}\n",
      "Betul\n",
      "{'name': 'Betul', 'age': 21}\n",
      "Key names:\n",
      "name\n",
      "age\n",
      "Values:\n",
      "Betul\n",
      "21\n",
      "{'name': 'Betul', 'age': 21, 'surname': 'cetin'}\n",
      "name Betul\n",
      "age 21\n",
      "surname cetin\n",
      "{'age': 21, 'surname': 'cetin'}\n",
      "{'brand': 'Ford', 'model': 'Mustang', 'year': 1964}\n"
     ]
    }
   ],
   "source": [
    "# Dictionaries\n",
    "    \n",
    "mydict = {\n",
    "  \"name\": \"Betul\",\n",
    "  \"age\": 22\n",
    "}\n",
    "print(mydict)\n",
    "print(mydict[\"name\"])\n",
    "mydict[\"age\"]= 21\n",
    "print(mydict)\n",
    "print(\"Key names:\")\n",
    "for x in mydict:\n",
    "    print(x)\n",
    "print(\"Values:\")\n",
    "for x in mydict.values():\n",
    "    #print(mydict[x])\n",
    "    print(x)\n",
    "\n",
    "mydict[\"surname\"] = \"cetin\"\n",
    "print(mydict)\n",
    "    \n",
    "for x,y in mydict.items():\n",
    "    print(x,y)\n",
    "    \n",
    "mydict.pop(\"name\")\n",
    "print(mydict)\n",
    "\n",
    "thisdict = dict(brand=\"Ford\", model=\"Mustang\", year=1964)\n",
    "print(thisdict)\n",
    "thisdict.clear()"
   ]
  },
  {
   "cell_type": "code",
   "execution_count": null,
   "metadata": {},
   "outputs": [],
   "source": [
    "#if statement\n",
    "a = int (input (\"enter a number:\"))\n",
    "if a > 10:\n",
    "    print(a)\n",
    "elif a > 5:\n",
    "    print(a)\n",
    "else:\n",
    "    print(0)"
   ]
  },
  {
   "cell_type": "code",
   "execution_count": 5,
   "metadata": {},
   "outputs": [
    {
     "name": "stdout",
     "output_type": "stream",
     "text": [
      "B\n"
     ]
    }
   ],
   "source": [
    "a = 10\n",
    "b = 30\n",
    "print(\"A\") if a > b else print(\"B\")"
   ]
  },
  {
   "cell_type": "code",
   "execution_count": 6,
   "metadata": {},
   "outputs": [
    {
     "name": "stdout",
     "output_type": "stream",
     "text": [
      "A\n",
      "B\n"
     ]
    }
   ],
   "source": [
    "if a > b or b > a :\n",
    "    print(\"A\")\n",
    "if a > 0 and b>0:\n",
    "    print(\"B\")"
   ]
  },
  {
   "cell_type": "code",
   "execution_count": 7,
   "metadata": {},
   "outputs": [
    {
     "name": "stdout",
     "output_type": "stream",
     "text": [
      "0\n",
      "1\n",
      "2\n",
      "3\n",
      "4\n",
      "5\n"
     ]
    }
   ],
   "source": [
    "i = 0\n",
    "while i < 6:\n",
    "    print(i)\n",
    "    i += 1"
   ]
  },
  {
   "cell_type": "code",
   "execution_count": 16,
   "metadata": {},
   "outputs": [
    {
     "name": "stdout",
     "output_type": "stream",
     "text": [
      "apple\n",
      "banana\n",
      "cherry\n"
     ]
    }
   ],
   "source": [
    "fruits = [\"apple\", \"banana\", \"cherry\"]\n",
    "for x in fruits:\n",
    "  print(x) \n"
   ]
  },
  {
   "cell_type": "code",
   "execution_count": 17,
   "metadata": {},
   "outputs": [
    {
     "name": "stdout",
     "output_type": "stream",
     "text": [
      "b\n",
      "a\n",
      "n\n",
      "a\n",
      "n\n",
      "a\n"
     ]
    }
   ],
   "source": [
    "for x in \"banana\":\n",
    "  print(x) \n"
   ]
  },
  {
   "cell_type": "code",
   "execution_count": 18,
   "metadata": {},
   "outputs": [
    {
     "name": "stdout",
     "output_type": "stream",
     "text": [
      "0\n",
      "1\n",
      "2\n",
      "3\n",
      "4\n",
      "5\n"
     ]
    }
   ],
   "source": [
    "for x in range(6):\n",
    "  print(x) "
   ]
  },
  {
   "cell_type": "code",
   "execution_count": 19,
   "metadata": {},
   "outputs": [
    {
     "name": "stdout",
     "output_type": "stream",
     "text": [
      "red apple\n",
      "red banana\n",
      "red cherry\n",
      "big apple\n",
      "big banana\n",
      "big cherry\n",
      "tasty apple\n",
      "tasty banana\n",
      "tasty cherry\n"
     ]
    }
   ],
   "source": [
    "adj = [\"red\", \"big\", \"tasty\"]\n",
    "fruits = [\"apple\", \"banana\", \"cherry\"]\n",
    "\n",
    "for x in adj:\n",
    "  for y in fruits:\n",
    "    print(x, y)\n"
   ]
  },
  {
   "cell_type": "code",
   "execution_count": 25,
   "metadata": {},
   "outputs": [
    {
     "name": "stdout",
     "output_type": "stream",
     "text": [
      "Hello\n"
     ]
    }
   ],
   "source": [
    "def my_function():\n",
    "  print(\"Hello\")\n",
    "\n",
    "my_function()\n"
   ]
  },
  {
   "cell_type": "code",
   "execution_count": 28,
   "metadata": {},
   "outputs": [
    {
     "name": "stdout",
     "output_type": "stream",
     "text": [
      "Ayse Cetin\n",
      "Betul Cetin\n",
      "Betul Cetin\n"
     ]
    }
   ],
   "source": [
    "def my_function(fname = \"Betul\"):\n",
    "  print(fname + \" Cetin\")\n",
    "\n",
    "my_function(\"Ayse\")\n",
    "my_function(\"Betul\")\n",
    "my_function()\n"
   ]
  },
  {
   "cell_type": "code",
   "execution_count": 29,
   "metadata": {},
   "outputs": [
    {
     "name": "stdout",
     "output_type": "stream",
     "text": [
      "15\n",
      "25\n",
      "45\n"
     ]
    }
   ],
   "source": [
    "def my_function(x):\n",
    "  return 5 * x\n",
    "\n",
    "print(my_function(3))\n",
    "print(my_function(5))\n",
    "print(my_function(9))"
   ]
  },
  {
   "cell_type": "code",
   "execution_count": 30,
   "metadata": {},
   "outputs": [
    {
     "name": "stdout",
     "output_type": "stream",
     "text": [
      "1\n",
      "3\n",
      "6\n",
      "10\n",
      "15\n",
      "21\n"
     ]
    },
    {
     "data": {
      "text/plain": [
       "21"
      ]
     },
     "execution_count": 30,
     "metadata": {},
     "output_type": "execute_result"
    }
   ],
   "source": [
    "def recursion(k):\n",
    "  if(k > 0):\n",
    "    result = k + recursion(k - 1)\n",
    "    print(result)\n",
    "  else:\n",
    "    result = 0\n",
    "  return result\n",
    "\n",
    "recursion(6)\n"
   ]
  },
  {
   "cell_type": "code",
   "execution_count": 4,
   "metadata": {},
   "outputs": [],
   "source": [
    "import numpy as np"
   ]
  },
  {
   "cell_type": "code",
   "execution_count": 22,
   "metadata": {},
   "outputs": [],
   "source": [
    "arr = np.array(([1,2,3],[4,5,6],[7,8,9],[1.5,2.5,3.5]))"
   ]
  },
  {
   "cell_type": "code",
   "execution_count": 19,
   "metadata": {},
   "outputs": [
    {
     "data": {
      "text/plain": [
       "array([[1. , 2. , 3. ],\n",
       "       [4. , 5. , 6. ],\n",
       "       [7. , 8. , 9. ],\n",
       "       [1.5, 2.5, 3.5]])"
      ]
     },
     "execution_count": 19,
     "metadata": {},
     "output_type": "execute_result"
    }
   ],
   "source": [
    "arr"
   ]
  },
  {
   "cell_type": "code",
   "execution_count": 23,
   "metadata": {},
   "outputs": [],
   "source": [
    "arr[0] = arr[0]**2\n"
   ]
  },
  {
   "cell_type": "code",
   "execution_count": 24,
   "metadata": {},
   "outputs": [
    {
     "data": {
      "text/plain": [
       "array([[1. , 4. , 9. ],\n",
       "       [4. , 5. , 6. ],\n",
       "       [7. , 8. , 9. ],\n",
       "       [1.5, 2.5, 3.5]])"
      ]
     },
     "execution_count": 24,
     "metadata": {},
     "output_type": "execute_result"
    }
   ],
   "source": [
    "arr"
   ]
  }
 ],
 "metadata": {
  "kernelspec": {
   "display_name": "Python 3",
   "language": "python",
   "name": "python3"
  },
  "language_info": {
   "codemirror_mode": {
    "name": "ipython",
    "version": 3
   },
   "file_extension": ".py",
   "mimetype": "text/x-python",
   "name": "python",
   "nbconvert_exporter": "python",
   "pygments_lexer": "ipython3",
   "version": "3.7.4"
  }
 },
 "nbformat": 4,
 "nbformat_minor": 2
}
